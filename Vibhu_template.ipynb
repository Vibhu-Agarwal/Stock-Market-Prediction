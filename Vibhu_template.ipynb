{
 "cells": [
  {
   "cell_type": "markdown",
   "metadata": {
    "heading_collapsed": true
   },
   "source": [
    "# Data"
   ]
  },
  {
   "cell_type": "markdown",
   "metadata": {
    "heading_collapsed": true,
    "hidden": true
   },
   "source": [
    "## Importing"
   ]
  },
  {
   "cell_type": "code",
   "execution_count": 1,
   "metadata": {
    "ExecuteTime": {
     "end_time": "2019-02-01T13:07:24.656186Z",
     "start_time": "2019-02-01T13:07:23.966340Z"
    },
    "hidden": true
   },
   "outputs": [],
   "source": [
    "import pandas as pd\n",
    "import matplotlib.pyplot as plt\n",
    "import random\n",
    "\n",
    "import seaborn as sns\n",
    "import os\n",
    "%matplotlib inline"
   ]
  },
  {
   "cell_type": "code",
   "execution_count": 2,
   "metadata": {
    "ExecuteTime": {
     "end_time": "2019-02-01T13:07:28.771999Z",
     "start_time": "2019-02-01T13:07:28.767679Z"
    },
    "hidden": true
   },
   "outputs": [],
   "source": [
    "plt.rcParams['figure.figsize'] = (20.0, 10.0)\n",
    "plt.rcParams.update({'font.size': 12})"
   ]
  },
  {
   "cell_type": "markdown",
   "metadata": {
    "heading_collapsed": true,
    "hidden": true
   },
   "source": [
    "## Reading Data"
   ]
  },
  {
   "cell_type": "code",
   "execution_count": 3,
   "metadata": {
    "ExecuteTime": {
     "end_time": "2019-02-01T13:07:33.031473Z",
     "start_time": "2019-02-01T13:07:33.006778Z"
    },
    "hidden": true
   },
   "outputs": [],
   "source": [
    "class StockDataSet(object):\n",
    "    \n",
    "    def __init__(self,\n",
    "                 stock_sym=\"GSPC.csv\",\n",
    "                 input_size=1,\n",
    "                 num_steps=30,\n",
    "                 test_ratio=0.1,\n",
    "                 normalized=True,\n",
    "                 close_price_only=True):\n",
    "        self.stock_sym = stock_sym\n",
    "        self.input_size = input_size\n",
    "        self.num_steps = num_steps\n",
    "        self.test_ratio = test_ratio\n",
    "        self.close_price_only = close_price_only\n",
    "        self.normalized = normalized\n",
    "\n",
    "        self.raw_df = self.read_dataset()\n",
    "\n",
    "        # Merge into one sequence\n",
    "        if close_price_only:\n",
    "            self.raw_seq = self.raw_df['Close']\n",
    "        else:\n",
    "            self.raw_seq = [price for tup in self.raw_df[['Open', 'Close']].values for price in tup]\n",
    "\n",
    "        self.raw_seq = np.array(self.raw_seq)\n",
    "        self.train_X, self.train_y, self.test_X, self.test_y = self._prepare_data(self.raw_seq)\n",
    "\n",
    "        \n",
    "    def read_dataset(self):\n",
    "        cwd = os.getcwd()\n",
    "        dataset_path = os.path.join(cwd, self.stock_sym)\n",
    "        data = pd.read_csv(dataset_path, parse_dates=['Date'], infer_datetime_format=True)\n",
    "        return data\n",
    "\n",
    "    \n",
    "    def _prepare_data(self, seq):\n",
    "        # split into items of input_size\n",
    "        seq = [np.array(seq[i * self.input_size: (i + 1) * self.input_size])\n",
    "               for i in range(len(seq) // self.input_size)]\n",
    "\n",
    "        if self.normalized:\n",
    "            seq = [seq[0] / seq[0][0] - 1.0] + [\n",
    "                curr / seq[i][-1] - 1.0 for i, curr in enumerate(seq[1:])]\n",
    "\n",
    "        # split into groups of num_steps\n",
    "        X = np.array([seq[i: i + self.num_steps] for i in range(len(seq) - self.num_steps)])\n",
    "        y = np.array([seq[i + self.num_steps] for i in range(len(seq) - self.num_steps)])\n",
    "\n",
    "        train_size = int(len(X) * (1.0 - self.test_ratio))\n",
    "        train_X, test_X = X[:train_size], X[train_size:]\n",
    "        train_y, test_y = y[:train_size], y[train_size:]\n",
    "        return train_X, train_y, test_X, test_y\n",
    "    \n",
    "\n",
    "    def generate_one_epoch(self, batch_size):\n",
    "        num_batches = int(len(self.train_X)) // batch_size\n",
    "        if batch_size * num_batches < len(self.train_X):\n",
    "            num_batches += 1\n",
    "\n",
    "        batch_indices = list(range(num_batches))\n",
    "        random.shuffle(batch_indices)\n",
    "        for j in batch_indices:\n",
    "            batch_X = self.train_X[j * batch_size : (j + 1) * batch_size]\n",
    "            batch_y = self.train_y[j * batch_size : (j + 1) * batch_size]\n",
    "            assert set(map(len, batch_X)) == {self.num_steps}\n",
    "            yield batch_X, batch_y"
   ]
  },
  {
   "cell_type": "code",
   "execution_count": 4,
   "metadata": {
    "ExecuteTime": {
     "end_time": "2019-02-01T13:07:34.030357Z",
     "start_time": "2019-02-01T13:07:33.974204Z"
    },
    "hidden": true
   },
   "outputs": [],
   "source": [
    "dataset = StockDataSet().raw_df"
   ]
  },
  {
   "cell_type": "markdown",
   "metadata": {
    "heading_collapsed": true,
    "hidden": true
   },
   "source": [
    "## About Data"
   ]
  },
  {
   "cell_type": "code",
   "execution_count": 5,
   "metadata": {
    "ExecuteTime": {
     "end_time": "2019-02-01T13:07:44.594262Z",
     "start_time": "2019-02-01T13:07:44.557639Z"
    },
    "hidden": true
   },
   "outputs": [
    {
     "data": {
      "text/html": [
       "<div>\n",
       "<style scoped>\n",
       "    .dataframe tbody tr th:only-of-type {\n",
       "        vertical-align: middle;\n",
       "    }\n",
       "\n",
       "    .dataframe tbody tr th {\n",
       "        vertical-align: top;\n",
       "    }\n",
       "\n",
       "    .dataframe thead th {\n",
       "        text-align: right;\n",
       "    }\n",
       "</style>\n",
       "<table border=\"1\" class=\"dataframe\">\n",
       "  <thead>\n",
       "    <tr style=\"text-align: right;\">\n",
       "      <th></th>\n",
       "      <th>Date</th>\n",
       "      <th>Open</th>\n",
       "      <th>High</th>\n",
       "      <th>Low</th>\n",
       "      <th>Close</th>\n",
       "      <th>Adj Close</th>\n",
       "      <th>Volume</th>\n",
       "    </tr>\n",
       "  </thead>\n",
       "  <tbody>\n",
       "    <tr>\n",
       "      <th>0</th>\n",
       "      <td>2014-01-28</td>\n",
       "      <td>1783.000000</td>\n",
       "      <td>1793.869995</td>\n",
       "      <td>1779.489990</td>\n",
       "      <td>1792.500000</td>\n",
       "      <td>1792.500000</td>\n",
       "      <td>3437830000</td>\n",
       "    </tr>\n",
       "    <tr>\n",
       "      <th>1</th>\n",
       "      <td>2014-01-29</td>\n",
       "      <td>1790.150024</td>\n",
       "      <td>1790.150024</td>\n",
       "      <td>1770.449951</td>\n",
       "      <td>1774.199951</td>\n",
       "      <td>1774.199951</td>\n",
       "      <td>3964020000</td>\n",
       "    </tr>\n",
       "    <tr>\n",
       "      <th>2</th>\n",
       "      <td>2014-01-30</td>\n",
       "      <td>1777.170044</td>\n",
       "      <td>1798.770020</td>\n",
       "      <td>1777.170044</td>\n",
       "      <td>1794.189941</td>\n",
       "      <td>1794.189941</td>\n",
       "      <td>3547510000</td>\n",
       "    </tr>\n",
       "    <tr>\n",
       "      <th>3</th>\n",
       "      <td>2014-01-31</td>\n",
       "      <td>1790.880005</td>\n",
       "      <td>1793.880005</td>\n",
       "      <td>1772.260010</td>\n",
       "      <td>1782.589966</td>\n",
       "      <td>1782.589966</td>\n",
       "      <td>4059690000</td>\n",
       "    </tr>\n",
       "    <tr>\n",
       "      <th>4</th>\n",
       "      <td>2014-02-03</td>\n",
       "      <td>1782.680054</td>\n",
       "      <td>1784.829956</td>\n",
       "      <td>1739.660034</td>\n",
       "      <td>1741.890015</td>\n",
       "      <td>1741.890015</td>\n",
       "      <td>4726040000</td>\n",
       "    </tr>\n",
       "  </tbody>\n",
       "</table>\n",
       "</div>"
      ],
      "text/plain": [
       "        Date         Open         High          Low        Close    Adj Close  \\\n",
       "0 2014-01-28  1783.000000  1793.869995  1779.489990  1792.500000  1792.500000   \n",
       "1 2014-01-29  1790.150024  1790.150024  1770.449951  1774.199951  1774.199951   \n",
       "2 2014-01-30  1777.170044  1798.770020  1777.170044  1794.189941  1794.189941   \n",
       "3 2014-01-31  1790.880005  1793.880005  1772.260010  1782.589966  1782.589966   \n",
       "4 2014-02-03  1782.680054  1784.829956  1739.660034  1741.890015  1741.890015   \n",
       "\n",
       "       Volume  \n",
       "0  3437830000  \n",
       "1  3964020000  \n",
       "2  3547510000  \n",
       "3  4059690000  \n",
       "4  4726040000  "
      ]
     },
     "execution_count": 5,
     "metadata": {},
     "output_type": "execute_result"
    }
   ],
   "source": [
    "dataset.head()"
   ]
  },
  {
   "cell_type": "code",
   "execution_count": 6,
   "metadata": {
    "ExecuteTime": {
     "end_time": "2019-02-01T13:07:46.917987Z",
     "start_time": "2019-02-01T13:07:46.867970Z"
    },
    "hidden": true
   },
   "outputs": [
    {
     "data": {
      "text/html": [
       "<div>\n",
       "<style scoped>\n",
       "    .dataframe tbody tr th:only-of-type {\n",
       "        vertical-align: middle;\n",
       "    }\n",
       "\n",
       "    .dataframe tbody tr th {\n",
       "        vertical-align: top;\n",
       "    }\n",
       "\n",
       "    .dataframe thead th {\n",
       "        text-align: right;\n",
       "    }\n",
       "</style>\n",
       "<table border=\"1\" class=\"dataframe\">\n",
       "  <thead>\n",
       "    <tr style=\"text-align: right;\">\n",
       "      <th></th>\n",
       "      <th>Open</th>\n",
       "      <th>High</th>\n",
       "      <th>Low</th>\n",
       "      <th>Close</th>\n",
       "      <th>Adj Close</th>\n",
       "      <th>Volume</th>\n",
       "    </tr>\n",
       "  </thead>\n",
       "  <tbody>\n",
       "    <tr>\n",
       "      <th>count</th>\n",
       "      <td>1259.000000</td>\n",
       "      <td>1259.000000</td>\n",
       "      <td>1259.000000</td>\n",
       "      <td>1259.000000</td>\n",
       "      <td>1259.000000</td>\n",
       "      <td>1.259000e+03</td>\n",
       "    </tr>\n",
       "    <tr>\n",
       "      <th>mean</th>\n",
       "      <td>2266.335980</td>\n",
       "      <td>2276.272828</td>\n",
       "      <td>2255.342542</td>\n",
       "      <td>2266.536878</td>\n",
       "      <td>2266.536878</td>\n",
       "      <td>3.591100e+09</td>\n",
       "    </tr>\n",
       "    <tr>\n",
       "      <th>std</th>\n",
       "      <td>311.527592</td>\n",
       "      <td>312.238347</td>\n",
       "      <td>310.487640</td>\n",
       "      <td>311.082279</td>\n",
       "      <td>311.082279</td>\n",
       "      <td>6.926642e+08</td>\n",
       "    </tr>\n",
       "    <tr>\n",
       "      <th>min</th>\n",
       "      <td>1743.819946</td>\n",
       "      <td>1755.790039</td>\n",
       "      <td>1737.920044</td>\n",
       "      <td>1741.890015</td>\n",
       "      <td>1741.890015</td>\n",
       "      <td>1.349780e+09</td>\n",
       "    </tr>\n",
       "    <tr>\n",
       "      <th>25%</th>\n",
       "      <td>2031.654968</td>\n",
       "      <td>2041.045044</td>\n",
       "      <td>2020.184998</td>\n",
       "      <td>2031.565002</td>\n",
       "      <td>2031.565002</td>\n",
       "      <td>3.186630e+09</td>\n",
       "    </tr>\n",
       "    <tr>\n",
       "      <th>50%</th>\n",
       "      <td>2131.719971</td>\n",
       "      <td>2144.379883</td>\n",
       "      <td>2125.350098</td>\n",
       "      <td>2132.979980</td>\n",
       "      <td>2132.979980</td>\n",
       "      <td>3.490260e+09</td>\n",
       "    </tr>\n",
       "    <tr>\n",
       "      <th>75%</th>\n",
       "      <td>2548.714966</td>\n",
       "      <td>2555.234985</td>\n",
       "      <td>2532.244995</td>\n",
       "      <td>2547.744995</td>\n",
       "      <td>2547.744995</td>\n",
       "      <td>3.893045e+09</td>\n",
       "    </tr>\n",
       "    <tr>\n",
       "      <th>max</th>\n",
       "      <td>2936.760010</td>\n",
       "      <td>2940.909912</td>\n",
       "      <td>2927.110107</td>\n",
       "      <td>2930.750000</td>\n",
       "      <td>2930.750000</td>\n",
       "      <td>7.609010e+09</td>\n",
       "    </tr>\n",
       "  </tbody>\n",
       "</table>\n",
       "</div>"
      ],
      "text/plain": [
       "              Open         High          Low        Close    Adj Close  \\\n",
       "count  1259.000000  1259.000000  1259.000000  1259.000000  1259.000000   \n",
       "mean   2266.335980  2276.272828  2255.342542  2266.536878  2266.536878   \n",
       "std     311.527592   312.238347   310.487640   311.082279   311.082279   \n",
       "min    1743.819946  1755.790039  1737.920044  1741.890015  1741.890015   \n",
       "25%    2031.654968  2041.045044  2020.184998  2031.565002  2031.565002   \n",
       "50%    2131.719971  2144.379883  2125.350098  2132.979980  2132.979980   \n",
       "75%    2548.714966  2555.234985  2532.244995  2547.744995  2547.744995   \n",
       "max    2936.760010  2940.909912  2927.110107  2930.750000  2930.750000   \n",
       "\n",
       "             Volume  \n",
       "count  1.259000e+03  \n",
       "mean   3.591100e+09  \n",
       "std    6.926642e+08  \n",
       "min    1.349780e+09  \n",
       "25%    3.186630e+09  \n",
       "50%    3.490260e+09  \n",
       "75%    3.893045e+09  \n",
       "max    7.609010e+09  "
      ]
     },
     "execution_count": 6,
     "metadata": {},
     "output_type": "execute_result"
    }
   ],
   "source": [
    "dataset.describe()"
   ]
  },
  {
   "cell_type": "code",
   "execution_count": 7,
   "metadata": {
    "ExecuteTime": {
     "end_time": "2019-02-01T13:07:47.739330Z",
     "start_time": "2019-02-01T13:07:47.717125Z"
    },
    "hidden": true
   },
   "outputs": [
    {
     "data": {
      "text/plain": [
       "(1259, 7)"
      ]
     },
     "execution_count": 7,
     "metadata": {},
     "output_type": "execute_result"
    }
   ],
   "source": [
    "dataset.shape"
   ]
  },
  {
   "cell_type": "code",
   "execution_count": 8,
   "metadata": {
    "ExecuteTime": {
     "end_time": "2019-02-01T13:07:49.871572Z",
     "start_time": "2019-02-01T13:07:49.816080Z"
    },
    "hidden": true
   },
   "outputs": [
    {
     "name": "stderr",
     "output_type": "stream",
     "text": [
      "/usr/local/lib/python3.5/dist-packages/ipykernel_launcher.py:2: SettingWithCopyWarning: \n",
      "A value is trying to be set on a copy of a slice from a DataFrame.\n",
      "Try using .loc[row_indexer,col_indexer] = value instead\n",
      "\n",
      "See the caveats in the documentation: http://pandas.pydata.org/pandas-docs/stable/indexing.html#indexing-view-versus-copy\n",
      "  \n"
     ]
    }
   ],
   "source": [
    "time_n_closing_value = dataset.iloc[:,[0,4]]\n",
    "time_n_closing_value['Date']=pd.to_datetime(time_n_closing_value['Date'], format='%d/%m/%Y')\n",
    "time_n_closing_value.set_index(['Date'], inplace=True)"
   ]
  },
  {
   "cell_type": "code",
   "execution_count": 9,
   "metadata": {
    "ExecuteTime": {
     "end_time": "2019-02-01T13:07:53.735379Z",
     "start_time": "2019-02-01T13:07:53.222651Z"
    },
    "hidden": true
   },
   "outputs": [
    {
     "data": {
      "image/png": "[encoded data removed]",
      "text/plain": [
       "<Figure size 1440x720 with 1 Axes>"
      ]
     },
     "metadata": {
      "needs_background": "light"
     },
     "output_type": "display_data"
    }
   ],
   "source": [
    "time_n_closing_value.plot()\n",
    "plt.title('Date Vs Close Price Graph')\n",
    "plt.ylabel('Close Price')\n",
    "plt.xlabel('Date')\n",
    "plt.show()"
   ]
  },
  {
   "cell_type": "markdown",
   "metadata": {},
   "source": [
    "# Tensorflow Implementation"
   ]
  },
  {
   "cell_type": "markdown",
   "metadata": {},
   "source": [
    "## Configuration for RNN"
   ]
  },
  {
   "cell_type": "code",
   "execution_count": null,
   "metadata": {
    "ExecuteTime": {
     "end_time": "2019-02-01T12:41:47.936571Z",
     "start_time": "2019-02-01T12:41:47.932316Z"
    }
   },
   "outputs": [],
   "source": [
    "class RNNConfig():\n",
    "    input_size=1\n",
    "    num_steps=30\n",
    "    lstm_size=128\n",
    "    num_layers=1\n",
    "    keep_prob=0.8\n",
    "    batch_size = 64\n",
    "    init_learning_rate = 0.001\n",
    "    learning_rate_decay = 0.99\n",
    "    init_epoch = 5\n",
    "    max_epoch = 100\n",
    "\n",
    "config = RNNConfig()"
   ]
  },
  {
   "cell_type": "markdown",
   "metadata": {
    "heading_collapsed": true
   },
   "source": [
    "## LSTM Implementation"
   ]
  },
  {
   "cell_type": "markdown",
   "metadata": {
    "heading_collapsed": true,
    "hidden": true
   },
   "source": [
    "### Importing Modules"
   ]
  },
  {
   "cell_type": "code",
   "execution_count": 10,
   "metadata": {
    "ExecuteTime": {
     "end_time": "2019-02-01T13:08:09.259765Z",
     "start_time": "2019-02-01T13:08:08.239811Z"
    },
    "hidden": true
   },
   "outputs": [],
   "source": [
    "import tensorflow as tf\n",
    "import numpy as np"
   ]
  },
  {
   "cell_type": "markdown",
   "metadata": {
    "heading_collapsed": true,
    "hidden": true
   },
   "source": [
    "### Creating Graph"
   ]
  },
  {
   "cell_type": "code",
   "execution_count": 11,
   "metadata": {
    "ExecuteTime": {
     "end_time": "2019-02-01T13:08:14.725792Z",
     "start_time": "2019-02-01T13:08:14.695480Z"
    },
    "hidden": true
   },
   "outputs": [],
   "source": [
    "def create_lstm_graph():\n",
    "    \n",
    "    tf.reset_default_graph()\n",
    "    lstm_graph = tf.Graph()\n",
    "\n",
    "    with lstm_graph.as_default():\n",
    "\n",
    "        inputs = tf.placeholder(tf.float32, [None, config.num_steps, config.input_size], name=\"Inputs\")\n",
    "        targets = tf.placeholder(tf.float32, [None, config.input_size], name=\"Targets\")\n",
    "        learning_rate = tf.placeholder(tf.float32, None, name=\"learn_rate\")\n",
    "\n",
    "        def _create_one_cell():\n",
    "            lstm_cell = tf.contrib.rnn.LSTMCell(config.lstm_size, state_is_tuple=True)\n",
    "            if config.keep_prob < 1.0:\n",
    "                lstm_cell = tf.contrib.rnn.DropoutWrapper(lstm_cell, output_keep_prob=config.keep_prob)\n",
    "            return lstm_cell\n",
    "\n",
    "        if config.num_layers > 1:\n",
    "            cell = tf.contrib.rnn.MultiRNNCell(\n",
    "                [_create_one_cell() for _ in range(config.num_layers)],\n",
    "                state_is_tuple=True)\n",
    "        else:\n",
    "            cell = _create_one_cell()\n",
    "\n",
    "        val, _ = tf.nn.dynamic_rnn(cell, inputs, dtype=tf.float32, scope=\"RNN\")\n",
    "        val = tf.transpose(val, [1,0,2])\n",
    "\n",
    "        with tf.name_scope(\"Output_Layer\"):\n",
    "            last = tf.gather(val, int(val.get_shape()[0]) - 1, name=\"Last_LSTM_Outputs\")\n",
    "\n",
    "            weight = tf.Variable(tf.truncated_normal([config.lstm_size, config.input_size]), name=\"weights\")\n",
    "            bias = tf.Variable(tf.constant(0.1, shape=[config.input_size]), name=\"biases\")\n",
    "            prediction = tf.matmul(last, weight) + bias\n",
    "\n",
    "            tf.summary.histogram(\"Last_LSTM_Outputs\", last)\n",
    "            tf.summary.histogram(\"weights\", weight)\n",
    "            tf.summary.histogram(\"biases\", bias)\n",
    "\n",
    "        with tf.name_scope(\"Train_Attrs\"):\n",
    "            loss = tf.reduce_mean(tf.square(prediction-targets), name=\"MSE_Loss\")\n",
    "            optimizer = tf.train.AdamOptimizer(learning_rate)\n",
    "            minimize = optimizer.minimize(loss, name=\"loss_adam_minimize\")\n",
    "            tf.summary.scalar(\"MSE_Loss\", loss)\n",
    "\n",
    "        for op in [prediction, loss]:\n",
    "            tf.add_to_collection(\"Ops_to_Restore\", op)\n",
    "    \n",
    "    return lstm_graph"
   ]
  },
  {
   "cell_type": "markdown",
   "metadata": {
    "heading_collapsed": true,
    "hidden": true
   },
   "source": [
    "### Computing Learning Rates"
   ]
  },
  {
   "cell_type": "code",
   "execution_count": 12,
   "metadata": {
    "ExecuteTime": {
     "end_time": "2019-02-01T13:08:18.557728Z",
     "start_time": "2019-02-01T13:08:18.551853Z"
    },
    "hidden": true
   },
   "outputs": [],
   "source": [
    "def _compute_learning_rates():\n",
    "    learning_rates_to_use = [config.init_learning_rate * (config.learning_rate_decay ** max(float(i + 1 - config.init_epoch), 0.0)) for i in range(config.max_epoch)]\n",
    "    print(\"Middle learning rate:\", learning_rates_to_use[len(learning_rates_to_use) // 2])\n",
    "    return learning_rates_to_use"
   ]
  },
  {
   "cell_type": "markdown",
   "metadata": {
    "heading_collapsed": true,
    "hidden": true
   },
   "source": [
    "### Training LSTM Model"
   ]
  },
  {
   "cell_type": "code",
   "execution_count": 13,
   "metadata": {
    "ExecuteTime": {
     "end_time": "2019-02-01T13:08:22.023286Z",
     "start_time": "2019-02-01T13:08:21.991600Z"
    },
    "hidden": true
   },
   "outputs": [],
   "source": [
    "def train_lstm_graph(lstm_graph, stock_name=\"GSPC.csv\", norm=True):\n",
    "    \n",
    "    stock_dataset = StockDataSet(stock_name, config.input_size, num_steps=config.num_steps, normalized=norm)\n",
    "    \n",
    "    final_prediction = []\n",
    "    final_loss = None\n",
    "    \n",
    "    graph_name = \"{sn}_lr={lr}_lr-decay={lrd}_lstm-size={size}_num-steps={steps}_input-size={inp}_batch-size={bs}_epochs={ep}\"\n",
    "    graph_name = graph_name.format(sn=stock_name[:stock_name.find('.')],\n",
    "                     lr=config.init_learning_rate,\n",
    "                     lrd=config.learning_rate_decay,\n",
    "                     size=config.lstm_size,\n",
    "                     steps=config.num_steps,\n",
    "                     inp=config.input_size,\n",
    "                     bs=config.batch_size,\n",
    "                     ep=config.max_epoch)\n",
    "    \n",
    "    print(graph_name)\n",
    "    \n",
    "    learning_rates_to_use = _compute_learning_rates()\n",
    "    #print('learning rates:\\n', learning_rates_to_use)\n",
    "    with tf.Session(graph=lstm_graph) as sess:\n",
    "        \n",
    "        merged_summary = tf.summary.merge_all()\n",
    "        print('merged_summary:',type(merged_summary))\n",
    "        writer = tf.summary.FileWriter('logs/' + graph_name)\n",
    "        writer.add_graph(sess.graph)\n",
    "\n",
    "        graph = tf.get_default_graph()\n",
    "        tf.global_variables_initializer().run()\n",
    "\n",
    "        inputs = graph.get_tensor_by_name('Inputs:0')\n",
    "        targets = graph.get_tensor_by_name('Targets:0')\n",
    "        learning_rate = graph.get_tensor_by_name('learn_rate:0')\n",
    "\n",
    "        test_data_feed = {\n",
    "            inputs: stock_dataset.test_X,\n",
    "            targets: stock_dataset.test_y,\n",
    "            learning_rate: 0.0\n",
    "        }\n",
    "\n",
    "        loss = graph.get_tensor_by_name('Train_Attrs/MSE_Loss:0')\n",
    "        minimize = graph.get_operation_by_name('Train_Attrs/loss_adam_minimize')\n",
    "        prediction = graph.get_tensor_by_name('Output_Layer/add:0')\n",
    "\n",
    "        for epoch_step in range(config.max_epoch):\n",
    "            current_lr = learning_rates_to_use[epoch_step]\n",
    "\n",
    "            for batch_X, batch_y in stock_dataset.generate_one_epoch(config.batch_size):\n",
    "                train_data_feed = {\n",
    "                    inputs: batch_X,\n",
    "                    targets: batch_y,\n",
    "                    learning_rate: current_lr\n",
    "                }\n",
    "                train_loss, _ = sess.run([loss, minimize], train_data_feed)\n",
    "\n",
    "            if epoch_step % 10 == 0:\n",
    "                test_loss, _pred, _summary = sess.run([loss, prediction, merged_summary], test_data_feed)\n",
    "                assert len(_pred) == len(stock_dataset.test_y)\n",
    "                print_out = \"Epoch {epoch_step} lr={lr} test_loss={test_loss}\".format(epoch_step=epoch_step,\n",
    "                                                                                     lr=current_lr,\n",
    "                                                                                     test_loss=test_loss)\n",
    "                print(print_out)\n",
    "                if epoch_step % 50 == 0:\n",
    "                    print(\"Predictions:\", [(\n",
    "                        map(lambda x: round(x, 4), _pred[-j]),\n",
    "                        map(lambda x: round(x, 4), stock_dataset.test_y[-j])\n",
    "                    ) for j in range(5)])\n",
    "\n",
    "            writer.add_summary(_summary, global_step=epoch_step)\n",
    "\n",
    "        print(\"Final Results:\")\n",
    "        final_prediction, final_loss = sess.run([prediction, loss], test_data_feed)\n",
    "        print(final_prediction, final_loss)\n",
    "\n",
    "        graph_saver_dir = os.path.join('models', graph_name)\n",
    "        if not os.path.exists(graph_saver_dir):\n",
    "            os.mkdir(graph_saver_dir)\n",
    "\n",
    "        saver = tf.train.Saver()\n",
    "        saver.save(sess, os.path.join(graph_saver_dir, \"stock_rnn_model_{gn}.ckpt\".format(gn=graph_name)),\n",
    "                                      global_step=epoch_step)\n",
    "\n",
    "    with open(\"final_predictions.{}.json\".format(graph_name), 'w') as fout:\n",
    "        fout.write(json.dumps(final_prediction.tolist()))\n",
    "    \n",
    "    return graph_name, stock_dataset\n",
    "        "
   ]
  },
  {
   "cell_type": "markdown",
   "metadata": {},
   "source": [
    "# Running the Model"
   ]
  },
  {
   "cell_type": "code",
   "execution_count": null,
   "metadata": {
    "ExecuteTime": {
     "end_time": "2019-02-01T12:42:00.509968Z",
     "start_time": "2019-02-01T12:41:54.464089Z"
    }
   },
   "outputs": [],
   "source": [
    "lstm_graph = create_lstm_graph()"
   ]
  },
  {
   "cell_type": "code",
   "execution_count": null,
   "metadata": {
    "ExecuteTime": {
     "end_time": "2019-02-01T12:42:36.477995Z",
     "start_time": "2019-02-01T12:42:25.007674Z"
    }
   },
   "outputs": [],
   "source": [
    "trained_graph, stock_dataset = train_lstm_graph(lstm_graph, norm=True)"
   ]
  },
  {
   "cell_type": "markdown",
   "metadata": {},
   "source": [
    "# Restoring Model and Running"
   ]
  },
  {
   "cell_type": "code",
   "execution_count": null,
   "metadata": {
    "ExecuteTime": {
     "end_time": "2019-02-01T12:42:43.387839Z",
     "start_time": "2019-02-01T12:42:43.384342Z"
    }
   },
   "outputs": [],
   "source": [
    "import os\n",
    "import tensorflow as tf"
   ]
  },
  {
   "cell_type": "code",
   "execution_count": null,
   "metadata": {
    "ExecuteTime": {
     "end_time": "2019-02-01T12:42:44.823222Z",
     "start_time": "2019-02-01T12:42:44.811089Z"
    }
   },
   "outputs": [],
   "source": [
    "def prediction_of_model(graph_name, max_epoch, test_X, test_y):\n",
    "    test_prediction = None\n",
    "    test_loss = None\n",
    "    \n",
    "    with tf.Session() as sess:\n",
    "        graph_path = os.path.join('models',graph_name,'stock_rnn_model_{graph}.ckpt-{epochs}.meta'.format(\n",
    "            graph=graph_name, epochs=max_epoch-1))\n",
    "        checkpoint_path = os.path.join('models', graph_name)\n",
    "        \n",
    "        importer = tf.train.import_meta_graph(graph_path)\n",
    "        importer.restore(sess, tf.train.latest_checkpoint(checkpoint_path))\n",
    "        \n",
    "        graph = tf.get_default_graph()\n",
    "        \n",
    "\n",
    "        inputs = graph.get_tensor_by_name('Inputs:0')\n",
    "        targets = graph.get_tensor_by_name('Targets:0')\n",
    "        learning_rate = graph.get_tensor_by_name('learn_rate:0')\n",
    "\n",
    "        test_data = {\n",
    "            inputs: test_X,\n",
    "            targets: test_y,\n",
    "            learning_rate: 0.0\n",
    "        }\n",
    "        \n",
    "        loss = graph.get_tensor_by_name('Train_Attrs/MSE_Loss:0')\n",
    "        prediction = graph.get_tensor_by_name('Output_Layer/add:0')\n",
    "        \n",
    "        test_prediction, test_loss = sess.run([prediction, loss], test_data)\n",
    "        \n",
    "    return test_prediction, test_loss"
   ]
  },
  {
   "cell_type": "code",
   "execution_count": null,
   "metadata": {
    "ExecuteTime": {
     "end_time": "2019-02-01T12:42:47.137890Z",
     "start_time": "2019-02-01T12:42:47.130576Z"
    }
   },
   "outputs": [],
   "source": [
    "X = np.concatenate((stock_dataset.train_X, stock_dataset.test_X), axis=0)\n",
    "Y = np.concatenate((stock_dataset.train_y, stock_dataset.test_y), axis=0)"
   ]
  },
  {
   "cell_type": "code",
   "execution_count": null,
   "metadata": {
    "ExecuteTime": {
     "end_time": "2019-02-01T12:42:51.838739Z",
     "start_time": "2019-02-01T12:42:51.833102Z"
    }
   },
   "outputs": [],
   "source": [
    "X.shape, Y.shape"
   ]
  },
  {
   "cell_type": "code",
   "execution_count": null,
   "metadata": {
    "ExecuteTime": {
     "end_time": "2019-02-01T12:42:59.625316Z",
     "start_time": "2019-02-01T12:42:59.361603Z"
    },
    "scrolled": true
   },
   "outputs": [],
   "source": [
    "res, loss = prediction_of_model(trained_graph, config.max_epoch, X, Y)"
   ]
  },
  {
   "cell_type": "code",
   "execution_count": null,
   "metadata": {
    "ExecuteTime": {
     "end_time": "2019-02-01T12:43:03.934899Z",
     "start_time": "2019-02-01T12:43:03.924473Z"
    }
   },
   "outputs": [],
   "source": [
    "print(loss)"
   ]
  },
  {
   "cell_type": "markdown",
   "metadata": {},
   "source": [
    "# Visualization"
   ]
  },
  {
   "cell_type": "code",
   "execution_count": null,
   "metadata": {
    "ExecuteTime": {
     "end_time": "2019-02-01T12:43:08.184034Z",
     "start_time": "2019-02-01T12:43:08.174576Z"
    }
   },
   "outputs": [],
   "source": [
    "res.shape"
   ]
  },
  {
   "cell_type": "code",
   "execution_count": null,
   "metadata": {
    "ExecuteTime": {
     "end_time": "2019-02-01T12:43:12.626129Z",
     "start_time": "2019-02-01T12:43:12.619635Z"
    }
   },
   "outputs": [],
   "source": [
    "result_size = res.shape[0]*res.shape[1]\n",
    "res_1d = np.ravel(res)[int(result_size/result_size+1):]\n",
    "Y_1d = np.ravel(Y)[int(result_size/result_size+1):]\n",
    "X_1d = np.array(list(range(Y_1d.shape[0])))"
   ]
  },
  {
   "cell_type": "code",
   "execution_count": null,
   "metadata": {
    "ExecuteTime": {
     "end_time": "2019-02-01T13:01:18.663215Z",
     "start_time": "2019-02-01T13:01:17.930798Z"
    }
   },
   "outputs": [],
   "source": [
    "plt.plot(X_1d, Y_1d,c='r', label='Actual Data')\n",
    "plt.plot(X_1d, res_1d,c='b', label='Predictions')\n",
    "plt.ylim(-Y_1d.max()*0.8, Y_1d.max())\n",
    "plt.savefig(trained_graph+'.jpg')\n",
    "plt.show()"
   ]
  },
  {
   "cell_type": "markdown",
   "metadata": {},
   "source": [
    "<br><br><br><br><br><br><br><br><br><br><br><br>"
   ]
  }
 ],
 "metadata": {
  "celltoolbar": "Initialization Cell",
  "kernelspec": {
   "display_name": "Python 3",
   "language": "python",
   "name": "python3"
  },
  "language_info": {
   "codemirror_mode": {
    "name": "ipython",
    "version": 3
   },
   "file_extension": ".py",
   "mimetype": "text/x-python",
   "name": "python",
   "nbconvert_exporter": "python",
   "pygments_lexer": "ipython3",
   "version": "3.5.2"
  },
  "toc": {
   "base_numbering": 1,
   "nav_menu": {
    "height": "281px",
    "width": "240px"
   },
   "number_sections": true,
   "sideBar": true,
   "skip_h1_title": false,
   "title_cell": "Table of Contents",
   "title_sidebar": "Contents",
   "toc_cell": false,
   "toc_position": {},
   "toc_section_display": true,
   "toc_window_display": true
  },
  "varInspector": {
   "cols": {
    "lenName": 16,
    "lenType": 16,
    "lenVar": 40
   },
   "kernels_config": {
    "python": {
     "delete_cmd_postfix": "",
     "delete_cmd_prefix": "del ",
     "library": "var_list.py",
     "varRefreshCmd": "print(var_dic_list())"
    },
    "r": {
     "delete_cmd_postfix": ") ",
     "delete_cmd_prefix": "rm(",
     "library": "var_list.r",
     "varRefreshCmd": "cat(var_dic_list()) "
    }
   },
   "position": {
    "height": "363.85px",
    "left": "808px",
    "right": "105px",
    "top": "4px",
    "width": "453px"
   },
   "types_to_exclude": [
    "module",
    "function",
    "builtin_function_or_method",
    "instance",
    "_Feature"
   ],
   "window_display": false
  }
 },
 "nbformat": 4,
 "nbformat_minor": 2
}
